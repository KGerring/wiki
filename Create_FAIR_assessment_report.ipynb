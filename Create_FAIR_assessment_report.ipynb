{
  "cells": [
    {
      "cell_type": "markdown",
      "metadata": {},
      "source": [
        "# FAIR assessment report notbook from F-uji responses"
      ]
    },
    {
      "cell_type": "markdown",
      "metadata": {},
      "source": [
        "This notebook provides a basic analysis and visualization of one or several F-uji json responses\n",
        "\n",
        "Authors: Jens Br\u00f6der (j.broeder@fz-juelich.de)\n",
        "\n",
        "Hint: Notebook can be exported as a pdf, latex or html, we recomment hiding the input cells.\n",
        "For example by executing \n",
        "```\n",
        "$jupyter nbconvert --no-input --to html Create_FAIR_assessment_report.ipynb\n",
        "```"
      ]
    },
    {
      "cell_type": "code",
      "execution_count": null,
      "metadata": {},
      "outputs": [],
      "source": [
        "results_path = './results/' # We assume that all (and only) json response files from a fuji server are under this path"
      ]
    },
    {
      "cell_type": "code",
      "execution_count": null,
      "metadata": {},
      "outputs": [],
      "source": [
        "import os\n",
        "import json\n",
        "import pandas as pd\n",
        "from collections.abc import MutableMapping\n",
        "import numpy as np\n",
        "\n",
        "from bokeh.layouts import gridplot\n",
        "from bokeh.io import output_file, show, output_notebook\n",
        "from bokeh.plotting import figure as bokeh_figure"
      ]
    },
    {
      "cell_type": "code",
      "execution_count": null,
      "metadata": {},
      "outputs": [],
      "source": [
        "output_notebook()"
      ]
    },
    {
      "cell_type": "code",
      "execution_count": null,
      "metadata": {},
      "outputs": [],
      "source": [
        "# helpers\n",
        "def flatten_dict(d: MutableMapping, sep: str= '.') -> MutableMapping:\n",
        "    \"\"\"Flatten a given nested python dict and return a dict\"\"\"\n",
        "    [flat_dict] = pd.json_normalize(d, sep=sep).to_dict(orient='records')\n",
        "    return flat_dict"
      ]
    },
    {
      "cell_type": "code",
      "execution_count": null,
      "metadata": {},
      "outputs": [],
      "source": [
        "def bokeh_histogram_plot(hist, edges, x=None, pdf=None, cdf=None, title=None, xlabel='x', ylabel='y', figure=None):\n",
        "    \"\"\"Plot an interactiv bokeh histogram\n",
        "    \n",
        "    \"\"\"\n",
        "    if figure is None:\n",
        "        tools='hover,pan,wheel_zoom,box_zoom,reset, save'\n",
        "        pl = bokeh_figure(title=title, tools=tools)#, background_fill_color=\"#fafafa\")\n",
        "    else:\n",
        "        pl = figure\n",
        "    pl.quad(top=hist, bottom=0, left=edges[:-1], right=edges[1:],\n",
        "           fill_color=\"navy\", line_color=\"white\", alpha=0.5)\n",
        "    if pdf is not None and x is not None:\n",
        "        pl.line(x, pdf, line_color=\"#ff8888\", line_width=4, alpha=0.7, legend_label=\"PDF\")\n",
        "    if cdf is not None and x is not None:\n",
        "        pl.line(x, cdf, line_color=\"orange\", line_width=2, alpha=0.7, legend_label=\"CDF\")\n",
        "\n",
        "    pl.y_range.start = 0\n",
        "    #pl.legend.location = \"center_right\"\n",
        "    #pl.legend.background_fill_color = \"#fefefe\"\n",
        "    pl.xaxis.axis_label = xlabel\n",
        "    pl.yaxis.axis_label = ylabel\n",
        "    pl.grid.grid_line_color=\"white\"\n",
        "    return pl"
      ]
    },
    {
      "cell_type": "markdown",
      "metadata": {},
      "source": [
        "# Read jsons responses"
      ]
    },
    {
      "cell_type": "code",
      "execution_count": null,
      "metadata": {},
      "outputs": [],
      "source": [
        "all_files = os.listdir(results_path)\n",
        "print('Reading results from this path {}'.format(results_path))"
      ]
    },
    {
      "cell_type": "code",
      "execution_count": null,
      "metadata": {},
      "outputs": [],
      "source": [
        "all_data = []\n",
        "for i, filec in enumerate(all_files):\n",
        "    filepath = os.path.join(results_path, filec)\n",
        "    with open(filepath, 'r', encoding='utf-8') as fileo:\n",
        "        data = json.load(fileo)\n",
        "    all_data.append(data)#.get(results)\n",
        "        \n"
      ]
    },
    {
      "cell_type": "code",
      "execution_count": null,
      "metadata": {},
      "outputs": [],
      "source": [
        "all_keys = []\n",
        "all_data_dict = {}\n",
        "to_remove = ['results']\n",
        "for i, data in enumerate(all_data):\n",
        "    datat = flatten_dict(data)\n",
        "    for key in to_remove:\n",
        "        datat.pop('results')\n",
        "    for res in all_data[0]['results']:\n",
        "        results = flatten_dict(res)\n",
        "        id_t = results['id']\n",
        "        for key, val in results.items():\n",
        "            datat[key + '_id{}'.format(id_t)] = val\n",
        "    # request.normalized_object_identifier not always there\n",
        "    datat['request.normalized_object_identifier'] = datat.get('request.normalized_object_identifier', None)\n",
        "    for key, val in datat.items():\n",
        "        temp = all_data_dict.get(key, [])\n",
        "        temp.append(val)\n",
        "        all_data_dict[key] = temp\n",
        "    \n",
        "\n",
        "#print(list(all_data_dict.keys()))"
      ]
    },
    {
      "cell_type": "code",
      "execution_count": null,
      "metadata": {},
      "outputs": [],
      "source": [
        "df = pd.DataFrame(data=all_data_dict)"
      ]
    },
    {
      "cell_type": "code",
      "execution_count": null,
      "metadata": {},
      "outputs": [],
      "source": [
        "df.describe()"
      ]
    },
    {
      "cell_type": "markdown",
      "metadata": {},
      "source": [
        "# Visualize different FAIR metrics"
      ]
    },
    {
      "cell_type": "code",
      "execution_count": null,
      "metadata": {},
      "outputs": [],
      "source": [
        "sumup_string = 'Sum up of evaluation:\\n'"
      ]
    },
    {
      "cell_type": "code",
      "execution_count": null,
      "metadata": {},
      "outputs": [],
      "source": [
        "key = 'summary.score_percent.FAIR'\n",
        "measured = df[key]\n",
        "sumup_string = sumup_string + 'Total FAIR score: {} +- {}\\n'.format(measured.mean(), measured.std()) \n",
        "hist, edges = np.histogram(measured, density=False, range=(0,100),bins=50)\n",
        "fig = bokeh_histogram_plot(hist, edges, title='Summary FAIR score percent', xlabel='Total score %', ylabel='# data sets')\n",
        "print(measured.describe())\n",
        "show(fig)"
      ]
    },
    {
      "cell_type": "code",
      "execution_count": null,
      "metadata": {},
      "outputs": [],
      "source": [
        "keys = {'F':[], 'A': [], 'I': [], 'R':[]}\n",
        "for key in df.keys():\n",
        "    if key == 'summary.score_percent.FAIR':\n",
        "        continue\n",
        "    if 'summary.score_percent.' in key:\n",
        "        end = key.split('.')[-1]\n",
        "        for k in keys.keys():\n",
        "            if k in end:\n",
        "                temp = keys.get(k, [])\n",
        "                temp.append(key)\n",
        "                keys[k] = temp\n",
        "                break\n",
        "        #keys.append(key)\n",
        "#keys.remove('summary.score_percent.FAIR')"
      ]
    },
    {
      "cell_type": "code",
      "execution_count": null,
      "metadata": {},
      "outputs": [],
      "source": [
        "sumup_string = sumup_string + '\\n' + '\\n' + 'F scores:\\n'\n",
        "for key in keys['F']:\n",
        "    measured = df[key]\n",
        "    sumup_string = sumup_string + 'Total{} score: {} +- {}\\n'.format(key.split('.')[-1], measured.mean(), measured.std())\n",
        "    hist, edges = np.histogram(measured, density=False, range=(0,100),bins=50)\n",
        "    fig = bokeh_histogram_plot(hist, edges, title=key, xlabel='Total score %', ylabel='# data sets')\n",
        "    print(measured.describe())\n",
        "    show(fig)\n",
        "\n",
        "sumup_string = sumup_string + '\\n' + '\\n' + 'A scores:\\n'\n",
        "for key in keys['A']:\n",
        "    measured = df[key]\n",
        "    sumup_string = sumup_string + 'Total{} score: {} +- {}\\n'.format(key.split('.')[-1], measured.mean(), measured.std())\n",
        "    hist, edges = np.histogram(measured, density=False, range=(0,100),bins=50)\n",
        "    fig = bokeh_histogram_plot(hist, edges, title=key, xlabel='Total score %', ylabel='# data sets')\n",
        "    print(measured.describe())\n",
        "    show(fig)\n",
        "\n",
        "sumup_string = sumup_string + '\\n' + '\\n' + 'I scores:\\n'\n",
        "for key in keys['I']:\n",
        "    measured = df[key]\n",
        "    sumup_string = sumup_string + 'Total{} score: {} +- {}\\n'.format(key.split('.')[-1], measured.mean(), measured.std())\n",
        "    hist, edges = np.histogram(measured, density=False, range=(0,100),bins=50)\n",
        "    fig = bokeh_histogram_plot(hist, edges, title=key, xlabel='Total score %', ylabel='# data sets')\n",
        "    print(measured.describe())\n",
        "    show(fig)\n",
        "    \n",
        "sumup_string = sumup_string + '\\n' + '\\n' + 'R scores:\\n'\n",
        "for key in keys['R']:\n",
        "    measured = df[key]\n",
        "    sumup_string = sumup_string + 'Total{} score: {} +- {}\\n'.format(key.split('.')[-1], measured.mean(), measured.std())\n",
        "    hist, edges = np.histogram(measured, density=False, range=(0,100),bins=50)\n",
        "    fig = bokeh_histogram_plot(hist, edges, title=key, xlabel='Total score %', ylabel='# data sets')\n",
        "    print(measured.describe())\n",
        "    show(fig)"
      ]
    },
    {
      "cell_type": "code",
      "execution_count": null,
      "metadata": {},
      "outputs": [],
      "source": [
        "# TODO nicer sum up, piecharts, plots as we see on the client side "
      ]
    },
    {
      "cell_type": "code",
      "execution_count": null,
      "metadata": {},
      "outputs": [],
      "source": [
        "print(sumup_string)"
      ]
    },
    {
      "cell_type": "code",
      "execution_count": null,
      "metadata": {
        "tags": []
      },
      "outputs": [],
      "source": []
    }
  ],
  "metadata": {
    "kernelspec": {
      "display_name": "Python 3 (ipykernel)",
      "language": "python",
      "name": "python3"
    },
    "language_info": {
      "codemirror_mode": {
        "name": "ipython",
        "version": 3
      },
      "file_extension": ".py",
      "mimetype": "text/x-python",
      "name": "python",
      "nbconvert_exporter": "python",
      "pygments_lexer": "ipython3",
      "version": "3.8.10"
    }
  },
  "nbformat": 4,
  "nbformat_minor": 5
}
